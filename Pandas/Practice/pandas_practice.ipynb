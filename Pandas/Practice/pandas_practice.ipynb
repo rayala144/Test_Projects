{
 "cells": [
  {
   "cell_type": "code",
   "execution_count": 31,
   "metadata": {},
   "outputs": [
    {
     "name": "stdout",
     "output_type": "stream",
     "text": [
      "a    3\n",
      "b    4\n",
      "c    1\n",
      "d    2\n",
      "e    1\n",
      "dtype: int32\n"
     ]
    }
   ],
   "source": [
    "import pandas as pd\n",
    "import numpy as np\n",
    "# s = pd.Series(np.random.randint(0, 6), index=['a', 'b', 'c', 'd', 'e'])\n",
    "arr = np.array([np.random.randint(1, 6) for i in range(5)])\n",
    "s = pd.Series(arr, index=['a', 'b', 'c', 'd', 'e'])   # one-dimensional data set\n",
    "print(s)\n"
   ]
  },
  {
   "cell_type": "code",
   "execution_count": 36,
   "metadata": {},
   "outputs": [],
   "source": [
    "data = {\n",
    "    'Country'  : ['India', 'Japan', 'China', 'America'],\n",
    "    'Currency' : ['Rupee', 'Yen', 'Yuan', 'Dollar'], \n",
    "    'Population' : [1415199835, 123951692, 1443981565, 338289857]\n",
    "}\n",
    "\n",
    "df = pd.DataFrame(data, columns=['Country', 'Currency', 'Population'], index=[1, 2, 3, 4])\n"
   ]
  },
  {
   "cell_type": "code",
   "execution_count": 37,
   "metadata": {},
   "outputs": [
    {
     "name": "stdout",
     "output_type": "stream",
     "text": [
      "   Country Currency  Population\n",
      "1    India    Rupee  1415199835\n",
      "2    Japan      Yen   123951692\n",
      "3    China     Yuan  1443981565\n",
      "4  America   Dollar   338289857\n",
      "a    3\n",
      "b    4\n",
      "c    1\n",
      "d    2\n",
      "e    1\n",
      "dtype: int32\n"
     ]
    }
   ],
   "source": [
    "df.drop('Country', axis=1)\n",
    "s.drop(['a', 'c'])\n",
    "print(df)\n",
    "print(s)"
   ]
  },
  {
   "cell_type": "code",
   "execution_count": 39,
   "metadata": {},
   "outputs": [
    {
     "data": {
      "text/html": [
       "<div>\n",
       "<style scoped>\n",
       "    .dataframe tbody tr th:only-of-type {\n",
       "        vertical-align: middle;\n",
       "    }\n",
       "\n",
       "    .dataframe tbody tr th {\n",
       "        vertical-align: top;\n",
       "    }\n",
       "\n",
       "    .dataframe thead th {\n",
       "        text-align: right;\n",
       "    }\n",
       "</style>\n",
       "<table border=\"1\" class=\"dataframe\">\n",
       "  <thead>\n",
       "    <tr style=\"text-align: right;\">\n",
       "      <th></th>\n",
       "      <th>Country</th>\n",
       "      <th>Currency</th>\n",
       "      <th>Population</th>\n",
       "    </tr>\n",
       "  </thead>\n",
       "  <tbody>\n",
       "    <tr>\n",
       "      <th>1</th>\n",
       "      <td>India</td>\n",
       "      <td>Rupee</td>\n",
       "      <td>1415199835</td>\n",
       "    </tr>\n",
       "    <tr>\n",
       "      <th>2</th>\n",
       "      <td>Japan</td>\n",
       "      <td>Yen</td>\n",
       "      <td>123951692</td>\n",
       "    </tr>\n",
       "    <tr>\n",
       "      <th>3</th>\n",
       "      <td>China</td>\n",
       "      <td>Yuan</td>\n",
       "      <td>1443981565</td>\n",
       "    </tr>\n",
       "    <tr>\n",
       "      <th>4</th>\n",
       "      <td>America</td>\n",
       "      <td>Dollar</td>\n",
       "      <td>338289857</td>\n",
       "    </tr>\n",
       "  </tbody>\n",
       "</table>\n",
       "</div>"
      ],
      "text/plain": [
       "   Country Currency  Population\n",
       "1    India    Rupee  1415199835\n",
       "2    Japan      Yen   123951692\n",
       "3    China     Yuan  1443981565\n",
       "4  America   Dollar   338289857"
      ]
     },
     "execution_count": 39,
     "metadata": {},
     "output_type": "execute_result"
    }
   ],
   "source": [
    "df.sort_values(by='Country')\n",
    "df.rank\n",
    "df"
   ]
  },
  {
   "cell_type": "code",
   "execution_count": 41,
   "metadata": {},
   "outputs": [
    {
     "data": {
      "text/html": [
       "<div>\n",
       "<style scoped>\n",
       "    .dataframe tbody tr th:only-of-type {\n",
       "        vertical-align: middle;\n",
       "    }\n",
       "\n",
       "    .dataframe tbody tr th {\n",
       "        vertical-align: top;\n",
       "    }\n",
       "\n",
       "    .dataframe thead th {\n",
       "        text-align: right;\n",
       "    }\n",
       "</style>\n",
       "<table border=\"1\" class=\"dataframe\">\n",
       "  <thead>\n",
       "    <tr style=\"text-align: right;\">\n",
       "      <th></th>\n",
       "      <th>0</th>\n",
       "      <th>1</th>\n",
       "      <th>2</th>\n",
       "      <th>3</th>\n",
       "    </tr>\n",
       "  </thead>\n",
       "  <tbody>\n",
       "    <tr>\n",
       "      <th>0</th>\n",
       "      <td>NaN</td>\n",
       "      <td>animal</td>\n",
       "      <td>strength</td>\n",
       "      <td>type</td>\n",
       "    </tr>\n",
       "    <tr>\n",
       "      <th>1</th>\n",
       "      <td>a</td>\n",
       "      <td>lion</td>\n",
       "      <td>90</td>\n",
       "      <td>wild</td>\n",
       "    </tr>\n",
       "    <tr>\n",
       "      <th>2</th>\n",
       "      <td>b</td>\n",
       "      <td>tiger</td>\n",
       "      <td>82</td>\n",
       "      <td>wild</td>\n",
       "    </tr>\n",
       "    <tr>\n",
       "      <th>3</th>\n",
       "      <td>c</td>\n",
       "      <td>deer</td>\n",
       "      <td>36</td>\n",
       "      <td>domestic</td>\n",
       "    </tr>\n",
       "    <tr>\n",
       "      <th>4</th>\n",
       "      <td>d</td>\n",
       "      <td>snake</td>\n",
       "      <td>68</td>\n",
       "      <td>wild</td>\n",
       "    </tr>\n",
       "  </tbody>\n",
       "</table>\n",
       "</div>"
      ],
      "text/plain": [
       "     0       1         2         3\n",
       "0  NaN  animal  strength      type\n",
       "1    a    lion        90      wild\n",
       "2    b   tiger        82      wild\n",
       "3    c    deer        36  domestic\n",
       "4    d   snake        68      wild"
      ]
     },
     "execution_count": 41,
     "metadata": {},
     "output_type": "execute_result"
    }
   ],
   "source": [
    "pd.read_csv('animal_data.csv', header=None, nrows=5)"
   ]
  }
 ],
 "metadata": {
  "kernelspec": {
   "display_name": "Python 3",
   "language": "python",
   "name": "python3"
  },
  "language_info": {
   "codemirror_mode": {
    "name": "ipython",
    "version": 3
   },
   "file_extension": ".py",
   "mimetype": "text/x-python",
   "name": "python",
   "nbconvert_exporter": "python",
   "pygments_lexer": "ipython3",
   "version": "3.11.1"
  },
  "orig_nbformat": 4,
  "vscode": {
   "interpreter": {
    "hash": "6973a898646177c5a1fb53da00c236bdb8dfb961b68fb344caa592c6acd772f7"
   }
  }
 },
 "nbformat": 4,
 "nbformat_minor": 2
}
