{
 "cells": [
  {
   "cell_type": "code",
   "execution_count": 36,
   "metadata": {},
   "outputs": [
    {
     "data": {
      "text/plain": [
       "pandas.core.frame.DataFrame"
      ]
     },
     "execution_count": 36,
     "metadata": {},
     "output_type": "execute_result"
    }
   ],
   "source": [
    "import pandas as pd\n",
    "nba = pd.read_csv('nba_all_elo.csv')\n",
    "laptops = pd.read_csv('laptops.csv')\n",
    "type(nba)\n"
   ]
  },
  {
   "cell_type": "code",
   "execution_count": 37,
   "metadata": {},
   "outputs": [],
   "source": [
    "pd.set_option(\"display.max.columns\", None)\n",
    "# nba.head(5)"
   ]
  },
  {
   "cell_type": "code",
   "execution_count": 38,
   "metadata": {},
   "outputs": [
    {
     "name": "stdout",
     "output_type": "stream",
     "text": [
      "<class 'pandas.core.frame.DataFrame'>\n",
      "RangeIndex: 126314 entries, 0 to 126313\n",
      "Data columns (total 23 columns):\n",
      " #   Column         Non-Null Count   Dtype  \n",
      "---  ------         --------------   -----  \n",
      " 0   gameorder      126314 non-null  int64  \n",
      " 1   game_id        126314 non-null  object \n",
      " 2   lg_id          126314 non-null  object \n",
      " 3   _iscopy        126314 non-null  int64  \n",
      " 4   year_id        126314 non-null  int64  \n",
      " 5   date_game      126314 non-null  object \n",
      " 6   seasongame     126314 non-null  int64  \n",
      " 7   is_playoffs    126314 non-null  int64  \n",
      " 8   team_id        126314 non-null  object \n",
      " 9   fran_id        126314 non-null  object \n",
      " 10  pts            126314 non-null  int64  \n",
      " 11  elo_i          126314 non-null  float64\n",
      " 12  elo_n          126314 non-null  float64\n",
      " 13  win_equiv      126314 non-null  float64\n",
      " 14  opp_id         126314 non-null  object \n",
      " 15  opp_fran       126314 non-null  object \n",
      " 16  opp_pts        126314 non-null  int64  \n",
      " 17  opp_elo_i      126314 non-null  float64\n",
      " 18  opp_elo_n      126314 non-null  float64\n",
      " 19  game_location  126314 non-null  object \n",
      " 20  game_result    126314 non-null  object \n",
      " 21  forecast       126314 non-null  float64\n",
      " 22  notes          5424 non-null    object \n",
      "dtypes: float64(6), int64(7), object(10)\n",
      "memory usage: 22.2+ MB\n"
     ]
    }
   ],
   "source": [
    "pd.set_option(\"display.precision\", 2)\n",
    "nba.info()  # gets columns with their data type\n"
   ]
  },
  {
   "cell_type": "code",
   "execution_count": 39,
   "metadata": {},
   "outputs": [
    {
     "data": {
      "text/html": [
       "<div>\n",
       "<style scoped>\n",
       "    .dataframe tbody tr th:only-of-type {\n",
       "        vertical-align: middle;\n",
       "    }\n",
       "\n",
       "    .dataframe tbody tr th {\n",
       "        vertical-align: top;\n",
       "    }\n",
       "\n",
       "    .dataframe thead th {\n",
       "        text-align: right;\n",
       "    }\n",
       "</style>\n",
       "<table border=\"1\" class=\"dataframe\">\n",
       "  <thead>\n",
       "    <tr style=\"text-align: right;\">\n",
       "      <th></th>\n",
       "      <th>gameorder</th>\n",
       "      <th>_iscopy</th>\n",
       "      <th>year_id</th>\n",
       "      <th>seasongame</th>\n",
       "      <th>is_playoffs</th>\n",
       "      <th>pts</th>\n",
       "      <th>elo_i</th>\n",
       "      <th>elo_n</th>\n",
       "      <th>win_equiv</th>\n",
       "      <th>opp_pts</th>\n",
       "      <th>opp_elo_i</th>\n",
       "      <th>opp_elo_n</th>\n",
       "      <th>forecast</th>\n",
       "    </tr>\n",
       "  </thead>\n",
       "  <tbody>\n",
       "    <tr>\n",
       "      <th>count</th>\n",
       "      <td>126314.00</td>\n",
       "      <td>126314.0</td>\n",
       "      <td>126314.00</td>\n",
       "      <td>126314.00</td>\n",
       "      <td>126314.00</td>\n",
       "      <td>126314.00</td>\n",
       "      <td>126314.00</td>\n",
       "      <td>126314.00</td>\n",
       "      <td>126314.00</td>\n",
       "      <td>126314.00</td>\n",
       "      <td>126314.00</td>\n",
       "      <td>126314.00</td>\n",
       "      <td>126314.00</td>\n",
       "    </tr>\n",
       "    <tr>\n",
       "      <th>mean</th>\n",
       "      <td>31579.00</td>\n",
       "      <td>0.5</td>\n",
       "      <td>1988.20</td>\n",
       "      <td>43.53</td>\n",
       "      <td>0.06</td>\n",
       "      <td>102.73</td>\n",
       "      <td>1495.24</td>\n",
       "      <td>1495.24</td>\n",
       "      <td>41.71</td>\n",
       "      <td>102.73</td>\n",
       "      <td>1495.24</td>\n",
       "      <td>1495.24</td>\n",
       "      <td>0.50</td>\n",
       "    </tr>\n",
       "    <tr>\n",
       "      <th>std</th>\n",
       "      <td>18231.93</td>\n",
       "      <td>0.5</td>\n",
       "      <td>17.58</td>\n",
       "      <td>25.38</td>\n",
       "      <td>0.24</td>\n",
       "      <td>14.81</td>\n",
       "      <td>112.14</td>\n",
       "      <td>112.46</td>\n",
       "      <td>10.63</td>\n",
       "      <td>14.81</td>\n",
       "      <td>112.14</td>\n",
       "      <td>112.46</td>\n",
       "      <td>0.22</td>\n",
       "    </tr>\n",
       "    <tr>\n",
       "      <th>min</th>\n",
       "      <td>1.00</td>\n",
       "      <td>0.0</td>\n",
       "      <td>1947.00</td>\n",
       "      <td>1.00</td>\n",
       "      <td>0.00</td>\n",
       "      <td>0.00</td>\n",
       "      <td>1091.64</td>\n",
       "      <td>1085.77</td>\n",
       "      <td>10.15</td>\n",
       "      <td>0.00</td>\n",
       "      <td>1091.64</td>\n",
       "      <td>1085.77</td>\n",
       "      <td>0.02</td>\n",
       "    </tr>\n",
       "    <tr>\n",
       "      <th>25%</th>\n",
       "      <td>15790.00</td>\n",
       "      <td>0.0</td>\n",
       "      <td>1975.00</td>\n",
       "      <td>22.00</td>\n",
       "      <td>0.00</td>\n",
       "      <td>93.00</td>\n",
       "      <td>1417.24</td>\n",
       "      <td>1416.99</td>\n",
       "      <td>34.10</td>\n",
       "      <td>93.00</td>\n",
       "      <td>1417.24</td>\n",
       "      <td>1416.99</td>\n",
       "      <td>0.33</td>\n",
       "    </tr>\n",
       "    <tr>\n",
       "      <th>50%</th>\n",
       "      <td>31579.00</td>\n",
       "      <td>0.5</td>\n",
       "      <td>1990.00</td>\n",
       "      <td>43.00</td>\n",
       "      <td>0.00</td>\n",
       "      <td>103.00</td>\n",
       "      <td>1500.95</td>\n",
       "      <td>1500.95</td>\n",
       "      <td>42.11</td>\n",
       "      <td>103.00</td>\n",
       "      <td>1500.95</td>\n",
       "      <td>1500.95</td>\n",
       "      <td>0.50</td>\n",
       "    </tr>\n",
       "    <tr>\n",
       "      <th>75%</th>\n",
       "      <td>47368.00</td>\n",
       "      <td>1.0</td>\n",
       "      <td>2003.00</td>\n",
       "      <td>65.00</td>\n",
       "      <td>0.00</td>\n",
       "      <td>112.00</td>\n",
       "      <td>1576.06</td>\n",
       "      <td>1576.29</td>\n",
       "      <td>49.64</td>\n",
       "      <td>112.00</td>\n",
       "      <td>1576.06</td>\n",
       "      <td>1576.29</td>\n",
       "      <td>0.67</td>\n",
       "    </tr>\n",
       "    <tr>\n",
       "      <th>max</th>\n",
       "      <td>63157.00</td>\n",
       "      <td>1.0</td>\n",
       "      <td>2015.00</td>\n",
       "      <td>108.00</td>\n",
       "      <td>1.00</td>\n",
       "      <td>186.00</td>\n",
       "      <td>1853.10</td>\n",
       "      <td>1853.10</td>\n",
       "      <td>71.11</td>\n",
       "      <td>186.00</td>\n",
       "      <td>1853.10</td>\n",
       "      <td>1853.10</td>\n",
       "      <td>0.98</td>\n",
       "    </tr>\n",
       "  </tbody>\n",
       "</table>\n",
       "</div>"
      ],
      "text/plain": [
       "       gameorder   _iscopy    year_id  seasongame  is_playoffs        pts  \\\n",
       "count  126314.00  126314.0  126314.00   126314.00    126314.00  126314.00   \n",
       "mean    31579.00       0.5    1988.20       43.53         0.06     102.73   \n",
       "std     18231.93       0.5      17.58       25.38         0.24      14.81   \n",
       "min         1.00       0.0    1947.00        1.00         0.00       0.00   \n",
       "25%     15790.00       0.0    1975.00       22.00         0.00      93.00   \n",
       "50%     31579.00       0.5    1990.00       43.00         0.00     103.00   \n",
       "75%     47368.00       1.0    2003.00       65.00         0.00     112.00   \n",
       "max     63157.00       1.0    2015.00      108.00         1.00     186.00   \n",
       "\n",
       "           elo_i      elo_n  win_equiv    opp_pts  opp_elo_i  opp_elo_n  \\\n",
       "count  126314.00  126314.00  126314.00  126314.00  126314.00  126314.00   \n",
       "mean     1495.24    1495.24      41.71     102.73    1495.24    1495.24   \n",
       "std       112.14     112.46      10.63      14.81     112.14     112.46   \n",
       "min      1091.64    1085.77      10.15       0.00    1091.64    1085.77   \n",
       "25%      1417.24    1416.99      34.10      93.00    1417.24    1416.99   \n",
       "50%      1500.95    1500.95      42.11     103.00    1500.95    1500.95   \n",
       "75%      1576.06    1576.29      49.64     112.00    1576.06    1576.29   \n",
       "max      1853.10    1853.10      71.11     186.00    1853.10    1853.10   \n",
       "\n",
       "        forecast  \n",
       "count  126314.00  \n",
       "mean        0.50  \n",
       "std         0.22  \n",
       "min         0.02  \n",
       "25%         0.33  \n",
       "50%         0.50  \n",
       "75%         0.67  \n",
       "max         0.98  "
      ]
     },
     "execution_count": 39,
     "metadata": {},
     "output_type": "execute_result"
    }
   ],
   "source": [
    "nba.describe()"
   ]
  },
  {
   "cell_type": "code",
   "execution_count": 40,
   "metadata": {},
   "outputs": [
    {
     "data": {
      "text/plain": [
       "BOS    5997\n",
       "NYK    5769\n",
       "LAL    5078\n",
       "DET    4985\n",
       "PHI    4533\n",
       "       ... \n",
       "INJ      60\n",
       "PIT      60\n",
       "DTF      60\n",
       "TRH      60\n",
       "SDS      11\n",
       "Name: team_id, Length: 104, dtype: int64"
      ]
     },
     "execution_count": 40,
     "metadata": {},
     "output_type": "execute_result"
    }
   ],
   "source": [
    "nba['team_id'].value_counts()"
   ]
  },
  {
   "cell_type": "code",
   "execution_count": 35,
   "metadata": {},
   "outputs": [
    {
     "data": {
      "text/plain": [
       "Lakers          6024\n",
       "Celtics         5997\n",
       "Knicks          5769\n",
       "Warriors        5657\n",
       "Pistons         5650\n",
       "Sixers          5644\n",
       "Hawks           5572\n",
       "Kings           5475\n",
       "Wizards         4582\n",
       "Spurs           4309\n",
       "Bulls           4307\n",
       "Pacers          4227\n",
       "Thunder         4178\n",
       "Rockets         4154\n",
       "Nuggets         4120\n",
       "Nets            4106\n",
       "Suns            4080\n",
       "Bucks           4034\n",
       "Trailblazers    3870\n",
       "Cavaliers       3810\n",
       "Clippers        3733\n",
       "Jazz            3555\n",
       "Mavericks       3013\n",
       "Heat            2371\n",
       "Pelicans        2254\n",
       "Magic           2207\n",
       "Timberwolves    2131\n",
       "Grizzlies       1657\n",
       "Raptors         1634\n",
       "Hornets          894\n",
       "Colonels         846\n",
       "Squires          799\n",
       "Spirits          777\n",
       "Stars            756\n",
       "Sounds           697\n",
       "Baltimore        467\n",
       "Floridians       440\n",
       "Condors          430\n",
       "Capitols         291\n",
       "Olympians        282\n",
       "Sails            274\n",
       "Stags            260\n",
       "Bombers          249\n",
       "Steamrollers     168\n",
       "Packers           72\n",
       "Redskins          65\n",
       "Rebels            63\n",
       "Waterloo          62\n",
       "Denver            62\n",
       "Falcons           60\n",
       "Jets              60\n",
       "Ironmen           60\n",
       "Huskies           60\n",
       "Name: fran_id, dtype: int64"
      ]
     },
     "execution_count": 35,
     "metadata": {},
     "output_type": "execute_result"
    }
   ],
   "source": [
    "nba['fran_id'].value_counts()"
   ]
  },
  {
   "cell_type": "code",
   "execution_count": 41,
   "metadata": {},
   "outputs": [
    {
     "data": {
      "text/plain": [
       "LAL    5078\n",
       "MNL     946\n",
       "Name: team_id, dtype: int64"
      ]
     },
     "execution_count": 41,
     "metadata": {},
     "output_type": "execute_result"
    }
   ],
   "source": [
    "nba.loc[nba['fran_id'] == 'Lakers', 'team_id'].value_counts() # locating a particular set of cells"
   ]
  },
  {
   "cell_type": "code",
   "execution_count": 49,
   "metadata": {},
   "outputs": [
    {
     "data": {
      "text/plain": [
       "min   1948-11-04\n",
       "max   1960-03-26\n",
       "Name: date_played, dtype: datetime64[ns]"
      ]
     },
     "execution_count": 49,
     "metadata": {},
     "output_type": "execute_result"
    }
   ],
   "source": [
    "nba['date_played'] = pd.to_datetime(nba['date_game'])\n"
   ]
  },
  {
   "cell_type": "code",
   "execution_count": 50,
   "metadata": {},
   "outputs": [
    {
     "data": {
      "text/plain": [
       "min   1948-11-04\n",
       "max   1960-03-26\n",
       "Name: date_played, dtype: datetime64[ns]"
      ]
     },
     "execution_count": 50,
     "metadata": {},
     "output_type": "execute_result"
    }
   ],
   "source": [
    "mnl_datePlayed = nba.loc[nba['team_id'] == 'MNL', 'date_played']\n",
    "min_date = nba.loc[nba['team_id'] == 'MNL', 'date_played'].min()\n",
    "max_date = nba.loc[nba['team_id'] == 'MNL', 'date_played'].max()\n",
    "# print(f'{min_date}, {max_date}')\n",
    "mnl_datePlayed.aggregate((min, max))"
   ]
  },
  {
   "cell_type": "code",
   "execution_count": 61,
   "metadata": {},
   "outputs": [
    {
     "data": {
      "text/plain": [
       "5997"
      ]
     },
     "execution_count": 61,
     "metadata": {},
     "output_type": "execute_result"
    }
   ],
   "source": [
    "nba.loc[nba['team_id'] == 'BOS', 'game_id'].count() # total no of games played\n"
   ]
  },
  {
   "cell_type": "code",
   "execution_count": 62,
   "metadata": {},
   "outputs": [
    {
     "data": {
      "text/plain": [
       "626484"
      ]
     },
     "execution_count": 62,
     "metadata": {},
     "output_type": "execute_result"
    }
   ],
   "source": [
    "nba.loc[nba['team_id'] == 'BOS', 'pts'].sum()"
   ]
  },
  {
   "attachments": {},
   "cell_type": "markdown",
   "metadata": {},
   "source": [
    "Understanding data structures of Pandas dataframe"
   ]
  },
  {
   "cell_type": "code",
   "execution_count": 70,
   "metadata": {},
   "outputs": [
    {
     "data": {
      "text/plain": [
       "RangeIndex(start=0, stop=4, step=1)"
      ]
     },
     "execution_count": 70,
     "metadata": {},
     "output_type": "execute_result"
    }
   ],
   "source": [
    "numbers = pd.Series([21355, 37732, 251326, 43627])\n",
    "numbers.index"
   ]
  },
  {
   "cell_type": "code",
   "execution_count": 119,
   "metadata": {},
   "outputs": [
    {
     "data": {
      "text/plain": [
       "New York      21355\n",
       "Delhi         37732\n",
       "Hyderabad    251326\n",
       "Bangalore     43627\n",
       "dtype: int32"
      ]
     },
     "execution_count": 119,
     "metadata": {},
     "output_type": "execute_result"
    }
   ],
   "source": [
    "import numpy as np\n",
    "revenues = np.array([21355, 37732, 251326, 43627])\n",
    "cities = np.array(['New York', 'Delhi', 'Hyderabad', 'Bangalore'])\n",
    "city_revenues = pd.Series(\n",
    "    revenues, cities # panda series\n",
    ")\n",
    "city_revenues"
   ]
  },
  {
   "cell_type": "code",
   "execution_count": 122,
   "metadata": {},
   "outputs": [
    {
     "data": {
      "text/plain": [
       "New York     10\n",
       "Delhi        16\n",
       "Hyderabad    13\n",
       "Bangalore    14\n",
       "dtype: int64"
      ]
     },
     "execution_count": 122,
     "metadata": {},
     "output_type": "execute_result"
    }
   ],
   "source": [
    "city_employee_count = pd.Series({'New York': 10, 'Delhi': 16, 'Hyderabad' : 13, 'Bangalore' : 14}) \n",
    "# pandas series using dictionary\n",
    "city_employee_count"
   ]
  },
  {
   "cell_type": "code",
   "execution_count": 154,
   "metadata": {},
   "outputs": [
    {
     "data": {
      "text/html": [
       "<div>\n",
       "<style scoped>\n",
       "    .dataframe tbody tr th:only-of-type {\n",
       "        vertical-align: middle;\n",
       "    }\n",
       "\n",
       "    .dataframe tbody tr th {\n",
       "        vertical-align: top;\n",
       "    }\n",
       "\n",
       "    .dataframe thead th {\n",
       "        text-align: right;\n",
       "    }\n",
       "</style>\n",
       "<table border=\"1\" class=\"dataframe\">\n",
       "  <thead>\n",
       "    <tr style=\"text-align: right;\">\n",
       "      <th></th>\n",
       "      <th>Revenue</th>\n",
       "      <th>Employee_count</th>\n",
       "    </tr>\n",
       "  </thead>\n",
       "  <tbody>\n",
       "    <tr>\n",
       "      <th>New York</th>\n",
       "      <td>21355</td>\n",
       "      <td>10</td>\n",
       "    </tr>\n",
       "    <tr>\n",
       "      <th>Delhi</th>\n",
       "      <td>37732</td>\n",
       "      <td>16</td>\n",
       "    </tr>\n",
       "    <tr>\n",
       "      <th>Hyderabad</th>\n",
       "      <td>251326</td>\n",
       "      <td>13</td>\n",
       "    </tr>\n",
       "    <tr>\n",
       "      <th>Bangalore</th>\n",
       "      <td>43627</td>\n",
       "      <td>14</td>\n",
       "    </tr>\n",
       "  </tbody>\n",
       "</table>\n",
       "</div>"
      ],
      "text/plain": [
       "           Revenue  Employee_count\n",
       "New York     21355              10\n",
       "Delhi        37732              16\n",
       "Hyderabad   251326              13\n",
       "Bangalore    43627              14"
      ]
     },
     "execution_count": 154,
     "metadata": {},
     "output_type": "execute_result"
    }
   ],
   "source": [
    "city_data = pd.DataFrame({\n",
    "    'Revenue':city_revenues,\n",
    "    'Employee_count': city_employee_count\n",
    "})\n",
    "# city_data.index = [i+1 for i in range(len(city_data))]\n",
    "city_data"
   ]
  },
  {
   "cell_type": "code",
   "execution_count": 155,
   "metadata": {},
   "outputs": [
    {
     "data": {
      "text/plain": [
       "[Index(['New York', 'Delhi', 'Hyderabad', 'Bangalore'], dtype='object'),\n",
       " Index(['Revenue', 'Employee_count'], dtype='object')]"
      ]
     },
     "execution_count": 155,
     "metadata": {},
     "output_type": "execute_result"
    }
   ],
   "source": [
    "city_data.axes"
   ]
  },
  {
   "cell_type": "code",
   "execution_count": 156,
   "metadata": {},
   "outputs": [
    {
     "data": {
      "text/plain": [
       "Index(['New York', 'Delhi', 'Hyderabad', 'Bangalore'], dtype='object')"
      ]
     },
     "execution_count": 156,
     "metadata": {},
     "output_type": "execute_result"
    }
   ],
   "source": [
    "city_data.axes[0]"
   ]
  },
  {
   "cell_type": "code",
   "execution_count": 157,
   "metadata": {},
   "outputs": [
    {
     "data": {
      "text/plain": [
       "Index(['Revenue', 'Employee_count'], dtype='object')"
      ]
     },
     "execution_count": 157,
     "metadata": {},
     "output_type": "execute_result"
    }
   ],
   "source": [
    "city_data.axes[1]"
   ]
  },
  {
   "cell_type": "code",
   "execution_count": 158,
   "metadata": {},
   "outputs": [
    {
     "data": {
      "text/plain": [
       "Index(['Revenue', 'Employee_count'], dtype='object')"
      ]
     },
     "execution_count": 158,
     "metadata": {},
     "output_type": "execute_result"
    }
   ],
   "source": [
    "city_data.keys()"
   ]
  },
  {
   "cell_type": "code",
   "execution_count": 159,
   "metadata": {},
   "outputs": [
    {
     "data": {
      "text/plain": [
       "True"
      ]
     },
     "execution_count": 159,
     "metadata": {},
     "output_type": "execute_result"
    }
   ],
   "source": [
    "'New York' in cities"
   ]
  },
  {
   "cell_type": "code",
   "execution_count": 171,
   "metadata": {},
   "outputs": [
    {
     "data": {
      "text/plain": [
       "False"
      ]
     },
     "execution_count": 171,
     "metadata": {},
     "output_type": "execute_result"
    }
   ],
   "source": [
    "nba.axes\n",
    "'points' in nba.keys()"
   ]
  },
  {
   "attachments": {},
   "cell_type": "markdown",
   "metadata": {},
   "source": [
    "Label index and positional index"
   ]
  },
  {
   "cell_type": "code",
   "execution_count": 179,
   "metadata": {},
   "outputs": [
    {
     "name": "stdout",
     "output_type": "stream",
     "text": [
      "251326 251326\n"
     ]
    }
   ],
   "source": [
    "print(city_revenues[2], city_revenues['Hyderabad'])"
   ]
  },
  {
   "cell_type": "code",
   "execution_count": 185,
   "metadata": {},
   "outputs": [
    {
     "data": {
      "text/plain": [
       "'blue'"
      ]
     },
     "execution_count": 185,
     "metadata": {},
     "output_type": "execute_result"
    }
   ],
   "source": [
    "colors = pd.Series([\"red\", \"purple\", \"blue\", \"green\", \"yellow\"], index=[1, 2, 3, 5, 8] )\n",
    "colors.loc[3] # returns blue (Label index)"
   ]
  },
  {
   "cell_type": "code",
   "execution_count": 186,
   "metadata": {},
   "outputs": [
    {
     "data": {
      "text/plain": [
       "'green'"
      ]
     },
     "execution_count": 186,
     "metadata": {},
     "output_type": "execute_result"
    }
   ],
   "source": [
    "colors.iloc[3] # returns green (Positional index)"
   ]
  }
 ],
 "metadata": {
  "kernelspec": {
   "display_name": "Python 3",
   "language": "python",
   "name": "python3"
  },
  "language_info": {
   "codemirror_mode": {
    "name": "ipython",
    "version": 3
   },
   "file_extension": ".py",
   "mimetype": "text/x-python",
   "name": "python",
   "nbconvert_exporter": "python",
   "pygments_lexer": "ipython3",
   "version": "3.11.1"
  },
  "orig_nbformat": 4,
  "vscode": {
   "interpreter": {
    "hash": "6973a898646177c5a1fb53da00c236bdb8dfb961b68fb344caa592c6acd772f7"
   }
  }
 },
 "nbformat": 4,
 "nbformat_minor": 2
}
