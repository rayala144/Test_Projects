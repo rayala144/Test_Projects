{
 "cells": [
  {
   "cell_type": "code",
   "execution_count": 5,
   "metadata": {},
   "outputs": [
    {
     "data": {
      "text/plain": [
       "'ewvhdsakbg'"
      ]
     },
     "execution_count": 5,
     "metadata": {},
     "output_type": "execute_result"
    }
   ],
   "source": [
    "# FInding unique elements in a string\n",
    "my_string = \"dgsaevevsshhhdswgevbkwa\"\n",
    "unique_string = ''.join(set(my_string))\n",
    "unique_string"
   ]
  },
  {
   "cell_type": "code",
   "execution_count": 6,
   "metadata": {},
   "outputs": [
    {
     "data": {
      "text/plain": [
       "'What The Hell Is Happeneing Here'"
      ]
     },
     "execution_count": 6,
     "metadata": {},
     "output_type": "execute_result"
    }
   ],
   "source": [
    "# Using title case (first letter caps)\n",
    "my_string_1 = \"What the hell is happeneing here\"\n",
    "new_string  = my_string_1.title()\n",
    "new_string"
   ]
  },
  {
   "cell_type": "code",
   "execution_count": 10,
   "metadata": {},
   "outputs": [
    {
     "data": {
      "text/plain": [
       "'lkjihgfedcba'"
      ]
     },
     "execution_count": 10,
     "metadata": {},
     "output_type": "execute_result"
    }
   ],
   "source": [
    "# reverse a string\n",
    "my_string_2 = \"abcdefghijkl\"\n",
    "reversed_string = my_string_2[::-1]\n",
    "reversed_string"
   ]
  },
  {
   "cell_type": "code",
   "execution_count": 14,
   "metadata": {},
   "outputs": [
    {
     "data": {
      "text/plain": [
       "True"
      ]
     },
     "execution_count": 14,
     "metadata": {},
     "output_type": "execute_result"
    }
   ],
   "source": [
    "def isPalindrome(sequence) -> bool:\n",
    "    if sequence == sequence[::-1]:\n",
    "        return True\n",
    "    else:\n",
    "        return False\n",
    "isPalindrome([1, 2, 3, 4, 3, 2, 1])"
   ]
  },
  {
   "cell_type": "code",
   "execution_count": 16,
   "metadata": {},
   "outputs": [
    {
     "name": "stdout",
     "output_type": "stream",
     "text": [
      "0 : a\n",
      "1 : b\n",
      "2 : c\n",
      "3 : d\n",
      "4 : e\n"
     ]
    }
   ],
   "source": [
    "my_list = ['a', 'b', 'c', 'd', 'e']\n",
    "\n",
    "for index, value in enumerate(my_list):\n",
    "    print(f'{index} : {value}')"
   ]
  }
 ],
 "metadata": {
  "kernelspec": {
   "display_name": "Python 3",
   "language": "python",
   "name": "python3"
  },
  "language_info": {
   "name": "python",
   "version": "3.11.1"
  },
  "orig_nbformat": 4
 },
 "nbformat": 4,
 "nbformat_minor": 2
}
