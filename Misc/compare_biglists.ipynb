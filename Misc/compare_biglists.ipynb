{
 "cells": [
  {
   "cell_type": "code",
   "execution_count": 9,
   "metadata": {},
   "outputs": [],
   "source": [
    "import time\n",
    "import numpy as np\n",
    "\n",
    "def time_decorator(func):\n",
    "    def inner(*args, **kwargs):\n",
    "        start = time.time()\n",
    "        func(*args, **kwargs)\n",
    "        end = time.time()\n",
    "        print(\"Time taken is {} seconds\".format(end - start))\n",
    "    return inner"
   ]
  },
  {
   "cell_type": "code",
   "execution_count": 4,
   "metadata": {},
   "outputs": [],
   "source": [
    "@time_decorator\n",
    "def generate_big_list(size: int):\n",
    "    new_list = []\n",
    "    for x in range(size):\n",
    "        new_list.append(x)"
   ]
  },
  {
   "cell_type": "code",
   "execution_count": 18,
   "metadata": {},
   "outputs": [],
   "source": [
    "@time_decorator\n",
    "def generate_big_list_2(size : int):\n",
    "    return [x for x in range(size)][:]"
   ]
  },
  {
   "cell_type": "code",
   "execution_count": 15,
   "metadata": {},
   "outputs": [],
   "source": [
    "@time_decorator\n",
    "def generate_big_list_3(size : int) -> list:\n",
    "    new_list_2 = np.array([x for x in range(size)])    \n",
    "    return new_list_2"
   ]
  },
  {
   "cell_type": "code",
   "execution_count": 20,
   "metadata": {},
   "outputs": [
    {
     "name": "stdout",
     "output_type": "stream",
     "text": [
      "Time taken is 11.584973096847534 seconds\n"
     ]
    }
   ],
   "source": [
    "size = 100000000\n",
    "generate_big_list(size)\n",
    "generate_big_list_2(size)\n",
    "# generate_big_list_3(size)"
   ]
  },
  {
   "cell_type": "code",
   "execution_count": 24,
   "metadata": {},
   "outputs": [
    {
     "data": {
      "text/plain": [
       "64.03124237432849"
      ]
     },
     "execution_count": 24,
     "metadata": {},
     "output_type": "execute_result"
    }
   ],
   "source": [
    "calc_dist = lambda point : ((point['x1'] - point['x2'])**2 + (point['y1'] - point['y2'])**2)**0.5\n",
    "calc_dist({\n",
    "    'x1' : 10,\n",
    "    'x2' : 50,\n",
    "    'y1' : 30,\n",
    "    'y2' : 80\n",
    "})"
   ]
  },
  {
   "cell_type": "code",
   "execution_count": 23,
   "metadata": {},
   "outputs": [
    {
     "data": {
      "text/plain": [
       "[64.03124237432849, 9.433981132056603, 1075.7439286372942]"
      ]
     },
     "execution_count": 23,
     "metadata": {},
     "output_type": "execute_result"
    }
   ],
   "source": [
    "points = [{'x1' : 10, 'x2' : 50, 'y1' : 30, 'y2' : 80},\n",
    "          {'x1' : -3, 'x2' : 5, 'y1' : 10, 'y2' : 5},\n",
    "          {'x1' : -95, 'x2' : 980, 'y1' : 30, 'y2' : 70}]\n",
    "list(map(calc_dist, points))"
   ]
  }
 ],
 "metadata": {
  "kernelspec": {
   "display_name": "Python 3",
   "language": "python",
   "name": "python3"
  },
  "language_info": {
   "codemirror_mode": {
    "name": "ipython",
    "version": 3
   },
   "file_extension": ".py",
   "mimetype": "text/x-python",
   "name": "python",
   "nbconvert_exporter": "python",
   "pygments_lexer": "ipython3",
   "version": "3.11.1"
  },
  "orig_nbformat": 4
 },
 "nbformat": 4,
 "nbformat_minor": 2
}
