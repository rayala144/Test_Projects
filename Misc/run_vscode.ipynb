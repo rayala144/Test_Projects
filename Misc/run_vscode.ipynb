{
  "cells": [
    {
      "cell_type": "code",
      "execution_count": 6,
      "metadata": {},
      "outputs": [],
      "source": [
        "import re\n",
        "\n",
        "text = \"\"\"\n",
        "hello hello\n",
        "goodbye\n",
        "bye bye bye\n",
        "hello goodbye\n",
        "\"\"\""
      ]
    },
    {
      "cell_type": "code",
      "execution_count": 8,
      "metadata": {},
      "outputs": [
        {
          "name": "stdout",
          "output_type": "stream",
          "text": [
            "['A', 'B', 'G', 'P']\n"
          ]
        }
      ],
      "source": [
        "w = ['ac bgd', 'bvs', 'gsdvsbv', 'pvsvs']\n",
        "print([h[0].upper() for h in w])"
      ]
    },
    {
      "cell_type": "code",
      "execution_count": 12,
      "metadata": {},
      "outputs": [
        {
          "name": "stdout",
          "output_type": "stream",
          "text": [
            "True\n"
          ]
        }
      ],
      "source": [
        "\n",
        "dict = {'x' : \"normal\"}\n",
        "print('x' in dict)\n"
      ]
    },
    {
      "cell_type": "code",
      "execution_count": 13,
      "metadata": {},
      "outputs": [
        {
          "name": "stdout",
          "output_type": "stream",
          "text": [
            "[False, False]\n"
          ]
        }
      ],
      "source": [
        "L = [False, False, True, False]\n",
        "M = []\n",
        "for item in L:\n",
        "    if item == True:\n",
        "        break\n",
        "    else:\n",
        "        M.append(item)\n",
        "        pass\n",
        "else:\n",
        "    M = L\n",
        "print(M)"
      ]
    },
    {
      "cell_type": "code",
      "execution_count": 19,
      "metadata": {},
      "outputs": [
        {
          "name": "stdout",
          "output_type": "stream",
          "text": [
            "['error: kdsbvksv kd df d\\n', 'error: jdsbvcuksvcYjckdscdsvs\\n']\n"
          ]
        }
      ],
      "source": [
        "result = [l for l in open(\"input.txt\") if l.startswith(\"error: \")]\n",
        "print(result)"
      ]
    },
    {
      "cell_type": "code",
      "execution_count": 22,
      "metadata": {},
      "outputs": [
        {
          "name": "stdout",
          "output_type": "stream",
          "text": [
            "[[1, 2], [3, 4], [5, 6], [7, 8]]\n"
          ]
        }
      ],
      "source": [
        "import itertools\n",
        "lst = [[[1, 2], [3, 4], [5, 6], [7, 8]]]\n",
        "# print([a for a in lst[0]])\n",
        "# print([itertools.flatten(itertools.flatten(lst))])\n",
        "print([lvlThree[w] for lvlThree in lst for w in range(len(lvlThree))])"
      ]
    },
    {
      "cell_type": "code",
      "execution_count": 35,
      "metadata": {},
      "outputs": [
        {
          "name": "stdout",
          "output_type": "stream",
          "text": [
            "division by zero\n"
          ]
        }
      ],
      "source": [
        "def foo():\n",
        "    return 0/0\n",
        "try:\n",
        "    foo()\n",
        "except BaseException as variable:\n",
        "    print(variable)\n"
      ]
    },
    {
      "cell_type": "code",
      "execution_count": 38,
      "metadata": {},
      "outputs": [
        {
          "ename": "TypeError",
          "evalue": "list indices must be integers or slices, not str",
          "output_type": "error",
          "traceback": [
            "\u001b[1;31m---------------------------------------------------------------------------\u001b[0m",
            "\u001b[1;31mTypeError\u001b[0m                                 Traceback (most recent call last)",
            "Cell \u001b[1;32mIn[38], line 4\u001b[0m\n\u001b[0;32m      2\u001b[0m wc \u001b[39m=\u001b[39m []\n\u001b[0;32m      3\u001b[0m \u001b[39mfor\u001b[39;00m w \u001b[39min\u001b[39;00m wl:\n\u001b[1;32m----> 4\u001b[0m     wc[w] \u001b[39m+\u001b[39m\u001b[39m=\u001b[39m \u001b[39m1\u001b[39m\n\u001b[0;32m      5\u001b[0m \u001b[39mprint\u001b[39m(wc)\n",
            "\u001b[1;31mTypeError\u001b[0m: list indices must be integers or slices, not str"
          ]
        }
      ],
      "source": [
        "wl = ['hi' 'hi' 'hello' 'hello' 'hello' 'ewfwa' 'egs']\n",
        "wc = []\n",
        "for w in wl:\n",
        "    wc[w] += 1\n",
        "print(wc)\n"
      ]
    },
    {
      "cell_type": "code",
      "execution_count": 2,
      "metadata": {},
      "outputs": [
        {
          "name": "stdout",
          "output_type": "stream",
          "text": [
            "45355 235552 vgeiyrv 58259\n"
          ]
        }
      ],
      "source": [
        "import re\n",
        "pat = re.compile(\"[0-9] {5}\")\n",
        "text = \"45355 235552 vgeiyrv 58259\"\n",
        "pat.findall(text)\n",
        "print(text)"
      ]
    },
    {
      "cell_type": "code",
      "execution_count": 52,
      "metadata": {},
      "outputs": [
        {
          "name": "stdout",
          "output_type": "stream",
          "text": [
            "1 6 3\n"
          ]
        }
      ],
      "source": [
        "x, y, z = 1, 2, 3\n",
        "\n",
        "def bar(xx):\n",
        "    global y\n",
        "    x, xx, y, z = 4, 5, 6, 7\n",
        "bar(x)\n",
        "print(x, y, z)"
      ]
    },
    {
      "cell_type": "code",
      "execution_count": 60,
      "metadata": {},
      "outputs": [],
      "source": [
        "x = isinstance('34\\xc2\\xb0', str)"
      ]
    },
    {
      "cell_type": "code",
      "execution_count": 68,
      "metadata": {},
      "outputs": [
        {
          "name": "stdout",
          "output_type": "stream",
          "text": [
            "11\n"
          ]
        }
      ],
      "source": [
        "class K:\n",
        "    def __init__(self):\n",
        "        self.__foo = 10\n",
        "    def methodX(self):\n",
        "        self.__methodY()\n",
        "        print(self.__foo)\n",
        "    def __methodY(self):\n",
        "        self.__foo += 1\n",
        "o = K()\n",
        "o.methodX()"
      ]
    },
    {
      "cell_type": "code",
      "execution_count": 69,
      "metadata": {},
      "outputs": [
        {
          "name": "stdout",
          "output_type": "stream",
          "text": [
            "3\n",
            "5\n",
            "5\n",
            "5\n",
            "7\n",
            "7\n",
            "7\n",
            "7\n",
            "7\n",
            "9\n"
          ]
        }
      ],
      "source": [
        "for n in range(2, 10):\n",
        "    for x in range(2, n):\n",
        "        if n % x == 0:\n",
        "            break\n",
        "        else:\n",
        "            print(n)"
      ]
    },
    {
      "cell_type": "code",
      "execution_count": 74,
      "metadata": {},
      "outputs": [
        {
          "name": "stdout",
          "output_type": "stream",
          "text": [
            "<class 'int'>\n",
            "<class 'int'>\n",
            "<class 'int'>\n",
            "<class 'int'>\n",
            "<class 'int'>\n"
          ]
        }
      ],
      "source": [
        "vec = [[1, 2], [3, 4], [5, 6], [7, 8], [9, 10]]\n",
        "k = (x for y in vec for x in y if x % 2 == 0)\n",
        "for i in k:\n",
        "    print(type(i))"
      ]
    },
    {
      "cell_type": "code",
      "execution_count": 76,
      "metadata": {},
      "outputs": [
        {
          "ename": "RuntimeError",
          "evalue": "dictionary changed size during iteration",
          "output_type": "error",
          "traceback": [
            "\u001b[1;31m---------------------------------------------------------------------------\u001b[0m",
            "\u001b[1;31mRuntimeError\u001b[0m                              Traceback (most recent call last)",
            "Cell \u001b[1;32mIn[76], line 2\u001b[0m\n\u001b[0;32m      1\u001b[0m sl \u001b[39m=\u001b[39m {\u001b[39m'\u001b[39m\u001b[39msa\u001b[39m\u001b[39m'\u001b[39m : \u001b[39m2\u001b[39m, \u001b[39m'\u001b[39m\u001b[39mdewvs\u001b[39m\u001b[39m'\u001b[39m : \u001b[39m5\u001b[39m, \u001b[39m'\u001b[39m\u001b[39mgdvcgdsvcudsvcDS\u001b[39m\u001b[39m'\u001b[39m: \u001b[39m16\u001b[39m}\n\u001b[1;32m----> 2\u001b[0m \u001b[39mfor\u001b[39;00m i \u001b[39min\u001b[39;00m sl:\n\u001b[0;32m      3\u001b[0m     \u001b[39mif\u001b[39;00m sl[i] \u001b[39m>\u001b[39m \u001b[39m10\u001b[39m \u001b[39mor\u001b[39;00m sl[i] \u001b[39m<\u001b[39m \u001b[39m3\u001b[39m:\n\u001b[0;32m      4\u001b[0m         \u001b[39mdel\u001b[39;00m sl[i]\n",
            "\u001b[1;31mRuntimeError\u001b[0m: dictionary changed size during iteration"
          ]
        }
      ],
      "source": [
        "sl = {'sa' : 2, 'dewvs' : 5, 'gdvcgdsvcudsvcDS': 16}\n",
        "for i in sl:\n",
        "    if sl[i] > 10 or sl[i] < 3:\n",
        "        del sl[i]\n",
        "print(sl)\n"
      ]
    },
    {
      "cell_type": "code",
      "execution_count": 81,
      "metadata": {},
      "outputs": [
        {
          "ename": "AttributeError",
          "evalue": "'builtin_function_or_method' object has no attribute 'size'",
          "output_type": "error",
          "traceback": [
            "\u001b[1;31m---------------------------------------------------------------------------\u001b[0m",
            "\u001b[1;31mAttributeError\u001b[0m                            Traceback (most recent call last)",
            "Cell \u001b[1;32mIn[81], line 2\u001b[0m\n\u001b[0;32m      1\u001b[0m \u001b[39mimport\u001b[39;00m \u001b[39mos\u001b[39;00m\u001b[39m,\u001b[39m \u001b[39mstat\u001b[39;00m\n\u001b[1;32m----> 2\u001b[0m size \u001b[39m=\u001b[39m os\u001b[39m.\u001b[39;49mstat\u001b[39m.\u001b[39;49msize(\u001b[39m\"\u001b[39m\u001b[39minput.txt\u001b[39m\u001b[39m\"\u001b[39m)\n\u001b[0;32m      3\u001b[0m \u001b[39mprint\u001b[39m(size)\n",
            "\u001b[1;31mAttributeError\u001b[0m: 'builtin_function_or_method' object has no attribute 'size'"
          ]
        }
      ],
      "source": [
        "import os, stat\n",
        "size = os.stat.size(\"input.txt\")\n",
        "print(size)"
      ]
    }
  ],
  "metadata": {
    "colab": {
      "authorship_tag": "ABX9TyN3M2/jJ9baBIhj1SJIksnd",
      "include_colab_link": true,
      "name": "run_vscode.ipynb",
      "provenance": []
    },
    "kernelspec": {
      "display_name": "Python 3",
      "language": "python",
      "name": "python3"
    },
    "language_info": {
      "codemirror_mode": {
        "name": "ipython",
        "version": 3
      },
      "file_extension": ".py",
      "mimetype": "text/x-python",
      "name": "python",
      "nbconvert_exporter": "python",
      "pygments_lexer": "ipython3",
      "version": "3.11.6"
    },
    "vscode": {
      "interpreter": {
        "hash": "6973a898646177c5a1fb53da00c236bdb8dfb961b68fb344caa592c6acd772f7"
      }
    }
  },
  "nbformat": 4,
  "nbformat_minor": 0
}
